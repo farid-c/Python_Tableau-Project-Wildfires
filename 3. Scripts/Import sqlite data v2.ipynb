{
 "cells": [
  {
   "cell_type": "markdown",
   "id": "75356edb",
   "metadata": {},
   "source": [
    "<font size=\"5\"> Import & Check Original USA Wildfires Data\n",
    "\n",
    "This script contains the following points:\n",
    "1.  Import libraries\n",
    "2.  Set OS Path\n",
    "3.  Import data & convert to dataframe\n",
    "4.  Check dataframe shape & head\n",
    "5.  Check dataframe data types & check for mixed data types\n",
    "6.  Check dataframe for missing values   \n",
    "7.  Drop DISCOVERY_TIME column & check head \n",
    "8.  Change DISCOVERY_DATE data type from obejct to datetime64[ns] & check data types\n",
    "9.  Derive month and day of week columns from DISCOVERY_DATE\n",
    "10. Check dataframe for duplicate records \n",
    "12. Basic statistical analysis    \n",
    "11. Export Data to pkl file\n",
    "\n",
    "</font>"
   ]
  },
  {
   "cell_type": "code",
   "execution_count": 1,
   "id": "fbd0bc6c",
   "metadata": {},
   "outputs": [],
   "source": [
    "#Import libraries\n",
    "import pandas as pd\n",
    "import numpy as np\n",
    "import os\n",
    "import matplotlib.pyplot as plt\n",
    "import seaborn as sns\n",
    "import scipy\n",
    "import sqlite3"
   ]
  },
  {
   "cell_type": "code",
   "execution_count": 2,
   "id": "1fcefab6",
   "metadata": {},
   "outputs": [],
   "source": [
    "#Set OS Path\n",
    "path = r'/Users/faridchehraz/Desktop/Python/Master - USA Wildfires'"
   ]
  },
  {
   "cell_type": "code",
   "execution_count": 3,
   "id": "d9736c6c",
   "metadata": {},
   "outputs": [
    {
     "name": "stdout",
     "output_type": "stream",
     "text": [
      "   FOD_ID  FIRE_YEAR  DISCOVERY_DATE  DISCOVERY_DOY  DISCOVERY_TIME  \\\n",
      "0       1       2005   2/2/2005 0:00             33          1300.0   \n",
      "1       2       2004  5/12/2004 0:00            133           845.0   \n",
      "2       3       2004  5/31/2004 0:00            152          1921.0   \n",
      "3       4       2004  6/28/2004 0:00            180          1600.0   \n",
      "4       5       2004  6/28/2004 0:00            180          1600.0   \n",
      "\n",
      "                           NWCG_GENERAL_CAUSE  FIRE_SIZE FIRE_SIZE_CLASS  \\\n",
      "0  Power generation/transmission/distribution       0.10               A   \n",
      "1                                     Natural       0.25               A   \n",
      "2                     Debris and open burning       0.10               A   \n",
      "3                                     Natural       0.10               A   \n",
      "4                                     Natural       0.10               A   \n",
      "\n",
      "    LATITUDE   LONGITUDE       OWNER_DESCR STATE COUNTY         FIPS_NAME  \n",
      "0  40.036944 -121.005833              USFS    CA     63     Plumas County  \n",
      "1  38.933056 -120.404444              USFS    CA     61     Placer County  \n",
      "2  38.984167 -120.735556  STATE OR PRIVATE    CA     17  El Dorado County  \n",
      "3  38.559167 -119.913333              USFS    CA      3     Alpine County  \n",
      "4  38.559167 -119.933056              USFS    CA      3     Alpine County  \n"
     ]
    }
   ],
   "source": [
    "#Read sqlite query data into a pandas DataFrame\n",
    "con = sqlite3.connect(\"/Users/faridchehraz/Desktop/Python/Master - USA Wildfires/2. Data/a. Original Data/FPA_FOD_20210617.sqlite\")\n",
    "df = pd.read_sql_query(\"SELECT FOD_ID,FIRE_YEAR,DISCOVERY_DATE,DISCOVERY_DOY,DISCOVERY_TIME,NWCG_GENERAL_CAUSE,FIRE_SIZE,FIRE_SIZE_CLASS,LATITUDE,LONGITUDE,OWNER_DESCR,STATE,COUNTY,FIPS_NAME from fires\", con)\n",
    "\n",
    "#Verify that result of SQL query is stored in the dataframe\n",
    "print(df.head())\n",
    "\n",
    "#Close connection\n",
    "con.close()"
   ]
  },
  {
   "cell_type": "code",
   "execution_count": 4,
   "id": "c18f1d2c",
   "metadata": {},
   "outputs": [
    {
     "data": {
      "text/plain": [
       "(2166753, 14)"
      ]
     },
     "execution_count": 4,
     "metadata": {},
     "output_type": "execute_result"
    }
   ],
   "source": [
    "#Check shape\n",
    "df.shape"
   ]
  },
  {
   "cell_type": "code",
   "execution_count": 6,
   "id": "4a803fdb",
   "metadata": {},
   "outputs": [
    {
     "data": {
      "text/plain": [
       "18874"
      ]
     },
     "execution_count": 6,
     "metadata": {},
     "output_type": "execute_result"
    }
   ],
   "source": [
    "df[df.STATE == 'NV'].shape[0]"
   ]
  },
  {
   "cell_type": "code",
   "execution_count": 5,
   "id": "86b990f1",
   "metadata": {},
   "outputs": [
    {
     "data": {
      "text/html": [
       "<div>\n",
       "<style scoped>\n",
       "    .dataframe tbody tr th:only-of-type {\n",
       "        vertical-align: middle;\n",
       "    }\n",
       "\n",
       "    .dataframe tbody tr th {\n",
       "        vertical-align: top;\n",
       "    }\n",
       "\n",
       "    .dataframe thead th {\n",
       "        text-align: right;\n",
       "    }\n",
       "</style>\n",
       "<table border=\"1\" class=\"dataframe\">\n",
       "  <thead>\n",
       "    <tr style=\"text-align: right;\">\n",
       "      <th></th>\n",
       "      <th>FOD_ID</th>\n",
       "      <th>FIRE_YEAR</th>\n",
       "      <th>DISCOVERY_DATE</th>\n",
       "      <th>DISCOVERY_DOY</th>\n",
       "      <th>DISCOVERY_TIME</th>\n",
       "      <th>NWCG_GENERAL_CAUSE</th>\n",
       "      <th>FIRE_SIZE</th>\n",
       "      <th>FIRE_SIZE_CLASS</th>\n",
       "      <th>LATITUDE</th>\n",
       "      <th>LONGITUDE</th>\n",
       "      <th>OWNER_DESCR</th>\n",
       "      <th>STATE</th>\n",
       "      <th>COUNTY</th>\n",
       "      <th>FIPS_NAME</th>\n",
       "    </tr>\n",
       "  </thead>\n",
       "  <tbody>\n",
       "    <tr>\n",
       "      <th>0</th>\n",
       "      <td>1</td>\n",
       "      <td>2005</td>\n",
       "      <td>2/2/2005 0:00</td>\n",
       "      <td>33</td>\n",
       "      <td>1300.0</td>\n",
       "      <td>Power generation/transmission/distribution</td>\n",
       "      <td>0.10</td>\n",
       "      <td>A</td>\n",
       "      <td>40.036944</td>\n",
       "      <td>-121.005833</td>\n",
       "      <td>USFS</td>\n",
       "      <td>CA</td>\n",
       "      <td>63</td>\n",
       "      <td>Plumas County</td>\n",
       "    </tr>\n",
       "    <tr>\n",
       "      <th>1</th>\n",
       "      <td>2</td>\n",
       "      <td>2004</td>\n",
       "      <td>5/12/2004 0:00</td>\n",
       "      <td>133</td>\n",
       "      <td>845.0</td>\n",
       "      <td>Natural</td>\n",
       "      <td>0.25</td>\n",
       "      <td>A</td>\n",
       "      <td>38.933056</td>\n",
       "      <td>-120.404444</td>\n",
       "      <td>USFS</td>\n",
       "      <td>CA</td>\n",
       "      <td>61</td>\n",
       "      <td>Placer County</td>\n",
       "    </tr>\n",
       "    <tr>\n",
       "      <th>2</th>\n",
       "      <td>3</td>\n",
       "      <td>2004</td>\n",
       "      <td>5/31/2004 0:00</td>\n",
       "      <td>152</td>\n",
       "      <td>1921.0</td>\n",
       "      <td>Debris and open burning</td>\n",
       "      <td>0.10</td>\n",
       "      <td>A</td>\n",
       "      <td>38.984167</td>\n",
       "      <td>-120.735556</td>\n",
       "      <td>STATE OR PRIVATE</td>\n",
       "      <td>CA</td>\n",
       "      <td>17</td>\n",
       "      <td>El Dorado County</td>\n",
       "    </tr>\n",
       "    <tr>\n",
       "      <th>3</th>\n",
       "      <td>4</td>\n",
       "      <td>2004</td>\n",
       "      <td>6/28/2004 0:00</td>\n",
       "      <td>180</td>\n",
       "      <td>1600.0</td>\n",
       "      <td>Natural</td>\n",
       "      <td>0.10</td>\n",
       "      <td>A</td>\n",
       "      <td>38.559167</td>\n",
       "      <td>-119.913333</td>\n",
       "      <td>USFS</td>\n",
       "      <td>CA</td>\n",
       "      <td>3</td>\n",
       "      <td>Alpine County</td>\n",
       "    </tr>\n",
       "    <tr>\n",
       "      <th>4</th>\n",
       "      <td>5</td>\n",
       "      <td>2004</td>\n",
       "      <td>6/28/2004 0:00</td>\n",
       "      <td>180</td>\n",
       "      <td>1600.0</td>\n",
       "      <td>Natural</td>\n",
       "      <td>0.10</td>\n",
       "      <td>A</td>\n",
       "      <td>38.559167</td>\n",
       "      <td>-119.933056</td>\n",
       "      <td>USFS</td>\n",
       "      <td>CA</td>\n",
       "      <td>3</td>\n",
       "      <td>Alpine County</td>\n",
       "    </tr>\n",
       "  </tbody>\n",
       "</table>\n",
       "</div>"
      ],
      "text/plain": [
       "   FOD_ID  FIRE_YEAR  DISCOVERY_DATE  DISCOVERY_DOY  DISCOVERY_TIME  \\\n",
       "0       1       2005   2/2/2005 0:00             33          1300.0   \n",
       "1       2       2004  5/12/2004 0:00            133           845.0   \n",
       "2       3       2004  5/31/2004 0:00            152          1921.0   \n",
       "3       4       2004  6/28/2004 0:00            180          1600.0   \n",
       "4       5       2004  6/28/2004 0:00            180          1600.0   \n",
       "\n",
       "                           NWCG_GENERAL_CAUSE  FIRE_SIZE FIRE_SIZE_CLASS  \\\n",
       "0  Power generation/transmission/distribution       0.10               A   \n",
       "1                                     Natural       0.25               A   \n",
       "2                     Debris and open burning       0.10               A   \n",
       "3                                     Natural       0.10               A   \n",
       "4                                     Natural       0.10               A   \n",
       "\n",
       "    LATITUDE   LONGITUDE       OWNER_DESCR STATE COUNTY         FIPS_NAME  \n",
       "0  40.036944 -121.005833              USFS    CA     63     Plumas County  \n",
       "1  38.933056 -120.404444              USFS    CA     61     Placer County  \n",
       "2  38.984167 -120.735556  STATE OR PRIVATE    CA     17  El Dorado County  \n",
       "3  38.559167 -119.913333              USFS    CA      3     Alpine County  \n",
       "4  38.559167 -119.933056              USFS    CA      3     Alpine County  "
      ]
     },
     "execution_count": 5,
     "metadata": {},
     "output_type": "execute_result"
    }
   ],
   "source": [
    "#Check head\n",
    "pd.set_option('display.max_columns', None)\n",
    "df.head()"
   ]
  },
  {
   "cell_type": "code",
   "execution_count": 6,
   "id": "c53479a8",
   "metadata": {},
   "outputs": [
    {
     "data": {
      "text/plain": [
       "FOD_ID                  int64\n",
       "FIRE_YEAR               int64\n",
       "DISCOVERY_DATE         object\n",
       "DISCOVERY_DOY           int64\n",
       "DISCOVERY_TIME        float64\n",
       "NWCG_GENERAL_CAUSE     object\n",
       "FIRE_SIZE             float64\n",
       "FIRE_SIZE_CLASS        object\n",
       "LATITUDE              float64\n",
       "LONGITUDE             float64\n",
       "OWNER_DESCR            object\n",
       "STATE                  object\n",
       "COUNTY                 object\n",
       "FIPS_NAME              object\n",
       "dtype: object"
      ]
     },
     "execution_count": 6,
     "metadata": {},
     "output_type": "execute_result"
    }
   ],
   "source": [
    "#Check data types\n",
    "df.dtypes"
   ]
  },
  {
   "cell_type": "code",
   "execution_count": 7,
   "id": "ceb30803",
   "metadata": {},
   "outputs": [
    {
     "name": "stdout",
     "output_type": "stream",
     "text": [
      "COUNTY\n",
      "FIPS_NAME\n"
     ]
    }
   ],
   "source": [
    "#Check for mixed data types in dataframe\n",
    "for col in df.columns.tolist():\n",
    "  weird = (df[[col]].applymap(type) != df[[col]].iloc[0].apply(type)).any(axis = 1)\n",
    "  if len (df[weird]) > 0:\n",
    "    print (col)"
   ]
  },
  {
   "cell_type": "code",
   "execution_count": 8,
   "id": "4358694d",
   "metadata": {},
   "outputs": [
    {
     "data": {
      "text/plain": [
       "FOD_ID                     0\n",
       "FIRE_YEAR                  0\n",
       "DISCOVERY_DATE             0\n",
       "DISCOVERY_DOY              0\n",
       "DISCOVERY_TIME        754468\n",
       "NWCG_GENERAL_CAUSE         0\n",
       "FIRE_SIZE                  0\n",
       "FIRE_SIZE_CLASS            0\n",
       "LATITUDE                   0\n",
       "LONGITUDE                  0\n",
       "OWNER_DESCR                0\n",
       "STATE                      0\n",
       "COUNTY                657235\n",
       "FIPS_NAME             657236\n",
       "dtype: int64"
      ]
     },
     "execution_count": 8,
     "metadata": {},
     "output_type": "execute_result"
    }
   ],
   "source": [
    "#Check for NaN values\n",
    "df.isna().sum()"
   ]
  },
  {
   "cell_type": "code",
   "execution_count": 9,
   "id": "68e0a930",
   "metadata": {},
   "outputs": [
    {
     "data": {
      "text/plain": [
       "MISSING/NOT SPECIFIED    1011331\n",
       "PRIVATE                   555554\n",
       "USFS                      204082\n",
       "BIA                       117326\n",
       "STATE OR PRIVATE           71576\n",
       "BLM                        69807\n",
       "STATE                      52306\n",
       "NPS                        19064\n",
       "OTHER FEDERAL              15082\n",
       "FWS                        13207\n",
       "TRIBAL                     10878\n",
       "MUNICIPAL/LOCAL            10852\n",
       "UNDEFINED FEDERAL           9872\n",
       "COUNTY                      5392\n",
       "BOR                          409\n",
       "FOREIGN                       15\n",
       "Name: OWNER_DESCR, dtype: int64"
      ]
     },
     "execution_count": 9,
     "metadata": {},
     "output_type": "execute_result"
    }
   ],
   "source": [
    "#Check column variables\n",
    "df.OWNER_DESCR.value_counts()"
   ]
  },
  {
   "cell_type": "markdown",
   "id": "6108e3c9",
   "metadata": {},
   "source": [
    "There are >1 million records with an unspecified land owner description. Will not drop the column but bear in mind for any analysis and / or related findings."
   ]
  },
  {
   "cell_type": "code",
   "execution_count": 10,
   "id": "5a74fb96",
   "metadata": {},
   "outputs": [],
   "source": [
    "#Drop DISCOVERY_TIME column\n",
    "df = df.drop(columns = ['DISCOVERY_TIME'])"
   ]
  },
  {
   "cell_type": "code",
   "execution_count": 11,
   "id": "529da393",
   "metadata": {},
   "outputs": [
    {
     "data": {
      "text/plain": [
       "(2166753, 13)"
      ]
     },
     "execution_count": 11,
     "metadata": {},
     "output_type": "execute_result"
    }
   ],
   "source": [
    "#Check shape\n",
    "df.shape"
   ]
  },
  {
   "cell_type": "code",
   "execution_count": 12,
   "id": "5e0b3848",
   "metadata": {},
   "outputs": [
    {
     "data": {
      "text/html": [
       "<div>\n",
       "<style scoped>\n",
       "    .dataframe tbody tr th:only-of-type {\n",
       "        vertical-align: middle;\n",
       "    }\n",
       "\n",
       "    .dataframe tbody tr th {\n",
       "        vertical-align: top;\n",
       "    }\n",
       "\n",
       "    .dataframe thead th {\n",
       "        text-align: right;\n",
       "    }\n",
       "</style>\n",
       "<table border=\"1\" class=\"dataframe\">\n",
       "  <thead>\n",
       "    <tr style=\"text-align: right;\">\n",
       "      <th></th>\n",
       "      <th>FOD_ID</th>\n",
       "      <th>FIRE_YEAR</th>\n",
       "      <th>DISCOVERY_DATE</th>\n",
       "      <th>DISCOVERY_DOY</th>\n",
       "      <th>NWCG_GENERAL_CAUSE</th>\n",
       "      <th>FIRE_SIZE</th>\n",
       "      <th>FIRE_SIZE_CLASS</th>\n",
       "      <th>LATITUDE</th>\n",
       "      <th>LONGITUDE</th>\n",
       "      <th>OWNER_DESCR</th>\n",
       "      <th>STATE</th>\n",
       "      <th>COUNTY</th>\n",
       "      <th>FIPS_NAME</th>\n",
       "    </tr>\n",
       "  </thead>\n",
       "  <tbody>\n",
       "    <tr>\n",
       "      <th>0</th>\n",
       "      <td>1</td>\n",
       "      <td>2005</td>\n",
       "      <td>2/2/2005 0:00</td>\n",
       "      <td>33</td>\n",
       "      <td>Power generation/transmission/distribution</td>\n",
       "      <td>0.10</td>\n",
       "      <td>A</td>\n",
       "      <td>40.036944</td>\n",
       "      <td>-121.005833</td>\n",
       "      <td>USFS</td>\n",
       "      <td>CA</td>\n",
       "      <td>63</td>\n",
       "      <td>Plumas County</td>\n",
       "    </tr>\n",
       "    <tr>\n",
       "      <th>1</th>\n",
       "      <td>2</td>\n",
       "      <td>2004</td>\n",
       "      <td>5/12/2004 0:00</td>\n",
       "      <td>133</td>\n",
       "      <td>Natural</td>\n",
       "      <td>0.25</td>\n",
       "      <td>A</td>\n",
       "      <td>38.933056</td>\n",
       "      <td>-120.404444</td>\n",
       "      <td>USFS</td>\n",
       "      <td>CA</td>\n",
       "      <td>61</td>\n",
       "      <td>Placer County</td>\n",
       "    </tr>\n",
       "    <tr>\n",
       "      <th>2</th>\n",
       "      <td>3</td>\n",
       "      <td>2004</td>\n",
       "      <td>5/31/2004 0:00</td>\n",
       "      <td>152</td>\n",
       "      <td>Debris and open burning</td>\n",
       "      <td>0.10</td>\n",
       "      <td>A</td>\n",
       "      <td>38.984167</td>\n",
       "      <td>-120.735556</td>\n",
       "      <td>STATE OR PRIVATE</td>\n",
       "      <td>CA</td>\n",
       "      <td>17</td>\n",
       "      <td>El Dorado County</td>\n",
       "    </tr>\n",
       "    <tr>\n",
       "      <th>3</th>\n",
       "      <td>4</td>\n",
       "      <td>2004</td>\n",
       "      <td>6/28/2004 0:00</td>\n",
       "      <td>180</td>\n",
       "      <td>Natural</td>\n",
       "      <td>0.10</td>\n",
       "      <td>A</td>\n",
       "      <td>38.559167</td>\n",
       "      <td>-119.913333</td>\n",
       "      <td>USFS</td>\n",
       "      <td>CA</td>\n",
       "      <td>3</td>\n",
       "      <td>Alpine County</td>\n",
       "    </tr>\n",
       "    <tr>\n",
       "      <th>4</th>\n",
       "      <td>5</td>\n",
       "      <td>2004</td>\n",
       "      <td>6/28/2004 0:00</td>\n",
       "      <td>180</td>\n",
       "      <td>Natural</td>\n",
       "      <td>0.10</td>\n",
       "      <td>A</td>\n",
       "      <td>38.559167</td>\n",
       "      <td>-119.933056</td>\n",
       "      <td>USFS</td>\n",
       "      <td>CA</td>\n",
       "      <td>3</td>\n",
       "      <td>Alpine County</td>\n",
       "    </tr>\n",
       "  </tbody>\n",
       "</table>\n",
       "</div>"
      ],
      "text/plain": [
       "   FOD_ID  FIRE_YEAR  DISCOVERY_DATE  DISCOVERY_DOY  \\\n",
       "0       1       2005   2/2/2005 0:00             33   \n",
       "1       2       2004  5/12/2004 0:00            133   \n",
       "2       3       2004  5/31/2004 0:00            152   \n",
       "3       4       2004  6/28/2004 0:00            180   \n",
       "4       5       2004  6/28/2004 0:00            180   \n",
       "\n",
       "                           NWCG_GENERAL_CAUSE  FIRE_SIZE FIRE_SIZE_CLASS  \\\n",
       "0  Power generation/transmission/distribution       0.10               A   \n",
       "1                                     Natural       0.25               A   \n",
       "2                     Debris and open burning       0.10               A   \n",
       "3                                     Natural       0.10               A   \n",
       "4                                     Natural       0.10               A   \n",
       "\n",
       "    LATITUDE   LONGITUDE       OWNER_DESCR STATE COUNTY         FIPS_NAME  \n",
       "0  40.036944 -121.005833              USFS    CA     63     Plumas County  \n",
       "1  38.933056 -120.404444              USFS    CA     61     Placer County  \n",
       "2  38.984167 -120.735556  STATE OR PRIVATE    CA     17  El Dorado County  \n",
       "3  38.559167 -119.913333              USFS    CA      3     Alpine County  \n",
       "4  38.559167 -119.933056              USFS    CA      3     Alpine County  "
      ]
     },
     "execution_count": 12,
     "metadata": {},
     "output_type": "execute_result"
    }
   ],
   "source": [
    "#Check header\n",
    "pd.set_option('display.max_columns', None)\n",
    "df.head()"
   ]
  },
  {
   "cell_type": "code",
   "execution_count": 13,
   "id": "56be53f3",
   "metadata": {},
   "outputs": [],
   "source": [
    "#Change DISCOERY_DATE data type from obejct to datetime64[ns]\n",
    "df['DISCOVERY_DATE'] = df['DISCOVERY_DATE'].astype('datetime64[ns]')"
   ]
  },
  {
   "cell_type": "code",
   "execution_count": 14,
   "id": "cfb4cf49",
   "metadata": {},
   "outputs": [
    {
     "data": {
      "text/plain": [
       "FOD_ID                         int64\n",
       "FIRE_YEAR                      int64\n",
       "DISCOVERY_DATE        datetime64[ns]\n",
       "DISCOVERY_DOY                  int64\n",
       "NWCG_GENERAL_CAUSE            object\n",
       "FIRE_SIZE                    float64\n",
       "FIRE_SIZE_CLASS               object\n",
       "LATITUDE                     float64\n",
       "LONGITUDE                    float64\n",
       "OWNER_DESCR                   object\n",
       "STATE                         object\n",
       "COUNTY                        object\n",
       "FIPS_NAME                     object\n",
       "dtype: object"
      ]
     },
     "execution_count": 14,
     "metadata": {},
     "output_type": "execute_result"
    }
   ],
   "source": [
    "#Check data types\n",
    "df.dtypes"
   ]
  },
  {
   "cell_type": "code",
   "execution_count": 15,
   "id": "48dedbe5",
   "metadata": {},
   "outputs": [
    {
     "name": "stdout",
     "output_type": "stream",
     "text": [
      "   FOD_ID  FIRE_YEAR DISCOVERY_DATE  DISCOVERY_DOY  \\\n",
      "0       1       2005     2005-02-02             33   \n",
      "1       2       2004     2004-05-12            133   \n",
      "2       3       2004     2004-05-31            152   \n",
      "3       4       2004     2004-06-28            180   \n",
      "4       5       2004     2004-06-28            180   \n",
      "\n",
      "                           NWCG_GENERAL_CAUSE  FIRE_SIZE FIRE_SIZE_CLASS  \\\n",
      "0  Power generation/transmission/distribution       0.10               A   \n",
      "1                                     Natural       0.25               A   \n",
      "2                     Debris and open burning       0.10               A   \n",
      "3                                     Natural       0.10               A   \n",
      "4                                     Natural       0.10               A   \n",
      "\n",
      "    LATITUDE   LONGITUDE       OWNER_DESCR STATE COUNTY         FIPS_NAME  \\\n",
      "0  40.036944 -121.005833              USFS    CA     63     Plumas County   \n",
      "1  38.933056 -120.404444              USFS    CA     61     Placer County   \n",
      "2  38.984167 -120.735556  STATE OR PRIVATE    CA     17  El Dorado County   \n",
      "3  38.559167 -119.913333              USFS    CA      3     Alpine County   \n",
      "4  38.559167 -119.933056              USFS    CA      3     Alpine County   \n",
      "\n",
      "   DISC_MONTH   DISC_DOW  \n",
      "0           2  Wednesday  \n",
      "1           5  Wednesday  \n",
      "2           5     Monday  \n",
      "3           6     Monday  \n",
      "4           6     Monday  \n"
     ]
    }
   ],
   "source": [
    "#Extract Discovery date & Containment date Month and Day of week\n",
    "df['DISC_MONTH'] = pd.DatetimeIndex(df['DISCOVERY_DATE']).month\n",
    "df['DISC_DOW'] = df['DISCOVERY_DATE'].dt.day_name()\n",
    "print(df.head())"
   ]
  },
  {
   "cell_type": "code",
   "execution_count": 16,
   "id": "b70afe8b",
   "metadata": {},
   "outputs": [
    {
     "data": {
      "text/html": [
       "<div>\n",
       "<style scoped>\n",
       "    .dataframe tbody tr th:only-of-type {\n",
       "        vertical-align: middle;\n",
       "    }\n",
       "\n",
       "    .dataframe tbody tr th {\n",
       "        vertical-align: top;\n",
       "    }\n",
       "\n",
       "    .dataframe thead th {\n",
       "        text-align: right;\n",
       "    }\n",
       "</style>\n",
       "<table border=\"1\" class=\"dataframe\">\n",
       "  <thead>\n",
       "    <tr style=\"text-align: right;\">\n",
       "      <th></th>\n",
       "      <th>FOD_ID</th>\n",
       "      <th>FIRE_YEAR</th>\n",
       "      <th>DISCOVERY_DATE</th>\n",
       "      <th>DISCOVERY_DOY</th>\n",
       "      <th>NWCG_GENERAL_CAUSE</th>\n",
       "      <th>FIRE_SIZE</th>\n",
       "      <th>FIRE_SIZE_CLASS</th>\n",
       "      <th>LATITUDE</th>\n",
       "      <th>LONGITUDE</th>\n",
       "      <th>OWNER_DESCR</th>\n",
       "      <th>STATE</th>\n",
       "      <th>COUNTY</th>\n",
       "      <th>FIPS_NAME</th>\n",
       "      <th>DISC_MONTH</th>\n",
       "      <th>DISC_DOW</th>\n",
       "    </tr>\n",
       "  </thead>\n",
       "  <tbody>\n",
       "  </tbody>\n",
       "</table>\n",
       "</div>"
      ],
      "text/plain": [
       "Empty DataFrame\n",
       "Columns: [FOD_ID, FIRE_YEAR, DISCOVERY_DATE, DISCOVERY_DOY, NWCG_GENERAL_CAUSE, FIRE_SIZE, FIRE_SIZE_CLASS, LATITUDE, LONGITUDE, OWNER_DESCR, STATE, COUNTY, FIPS_NAME, DISC_MONTH, DISC_DOW]\n",
       "Index: []"
      ]
     },
     "execution_count": 16,
     "metadata": {},
     "output_type": "execute_result"
    }
   ],
   "source": [
    "#Check for duplicate records, none found\n",
    "df_dups = df[df.duplicated()]\n",
    "df_dups"
   ]
  },
  {
   "cell_type": "code",
   "execution_count": 17,
   "id": "b62034ae",
   "metadata": {},
   "outputs": [
    {
     "data": {
      "text/html": [
       "<div>\n",
       "<style scoped>\n",
       "    .dataframe tbody tr th:only-of-type {\n",
       "        vertical-align: middle;\n",
       "    }\n",
       "\n",
       "    .dataframe tbody tr th {\n",
       "        vertical-align: top;\n",
       "    }\n",
       "\n",
       "    .dataframe thead th {\n",
       "        text-align: right;\n",
       "    }\n",
       "</style>\n",
       "<table border=\"1\" class=\"dataframe\">\n",
       "  <thead>\n",
       "    <tr style=\"text-align: right;\">\n",
       "      <th></th>\n",
       "      <th>FOD_ID</th>\n",
       "      <th>FIRE_YEAR</th>\n",
       "      <th>DISCOVERY_DOY</th>\n",
       "      <th>FIRE_SIZE</th>\n",
       "      <th>LATITUDE</th>\n",
       "      <th>LONGITUDE</th>\n",
       "      <th>DISC_MONTH</th>\n",
       "    </tr>\n",
       "  </thead>\n",
       "  <tbody>\n",
       "    <tr>\n",
       "      <th>count</th>\n",
       "      <td>2166753.00</td>\n",
       "      <td>2166753.00</td>\n",
       "      <td>2166753.00</td>\n",
       "      <td>2166753.00</td>\n",
       "      <td>2166753.00</td>\n",
       "      <td>2166753.00</td>\n",
       "      <td>2166753.00</td>\n",
       "    </tr>\n",
       "    <tr>\n",
       "      <th>mean</th>\n",
       "      <td>100699748.95</td>\n",
       "      <td>2005.32</td>\n",
       "      <td>164.99</td>\n",
       "      <td>75.99</td>\n",
       "      <td>36.89</td>\n",
       "      <td>-96.19</td>\n",
       "      <td>5.94</td>\n",
       "    </tr>\n",
       "    <tr>\n",
       "      <th>std</th>\n",
       "      <td>150380118.92</td>\n",
       "      <td>7.54</td>\n",
       "      <td>89.99</td>\n",
       "      <td>2536.04</td>\n",
       "      <td>6.02</td>\n",
       "      <td>16.65</td>\n",
       "      <td>2.95</td>\n",
       "    </tr>\n",
       "    <tr>\n",
       "      <th>min</th>\n",
       "      <td>1.00</td>\n",
       "      <td>1992.00</td>\n",
       "      <td>1.00</td>\n",
       "      <td>0.00</td>\n",
       "      <td>17.94</td>\n",
       "      <td>-178.80</td>\n",
       "      <td>1.00</td>\n",
       "    </tr>\n",
       "    <tr>\n",
       "      <th>25%</th>\n",
       "      <td>582842.00</td>\n",
       "      <td>1999.00</td>\n",
       "      <td>89.00</td>\n",
       "      <td>0.10</td>\n",
       "      <td>32.96</td>\n",
       "      <td>-110.85</td>\n",
       "      <td>3.00</td>\n",
       "    </tr>\n",
       "    <tr>\n",
       "      <th>50%</th>\n",
       "      <td>1320811.00</td>\n",
       "      <td>2006.00</td>\n",
       "      <td>165.00</td>\n",
       "      <td>0.97</td>\n",
       "      <td>35.64</td>\n",
       "      <td>-93.11</td>\n",
       "      <td>6.00</td>\n",
       "    </tr>\n",
       "    <tr>\n",
       "      <th>75%</th>\n",
       "      <td>201662150.00</td>\n",
       "      <td>2011.00</td>\n",
       "      <td>230.00</td>\n",
       "      <td>3.00</td>\n",
       "      <td>40.81</td>\n",
       "      <td>-82.46</td>\n",
       "      <td>8.00</td>\n",
       "    </tr>\n",
       "    <tr>\n",
       "      <th>max</th>\n",
       "      <td>400482086.00</td>\n",
       "      <td>2018.00</td>\n",
       "      <td>366.00</td>\n",
       "      <td>662700.00</td>\n",
       "      <td>70.33</td>\n",
       "      <td>-65.26</td>\n",
       "      <td>12.00</td>\n",
       "    </tr>\n",
       "  </tbody>\n",
       "</table>\n",
       "</div>"
      ],
      "text/plain": [
       "             FOD_ID   FIRE_YEAR DISCOVERY_DOY   FIRE_SIZE    LATITUDE  \\\n",
       "count    2166753.00  2166753.00    2166753.00  2166753.00  2166753.00   \n",
       "mean   100699748.95     2005.32        164.99       75.99       36.89   \n",
       "std    150380118.92        7.54         89.99     2536.04        6.02   \n",
       "min            1.00     1992.00          1.00        0.00       17.94   \n",
       "25%       582842.00     1999.00         89.00        0.10       32.96   \n",
       "50%      1320811.00     2006.00        165.00        0.97       35.64   \n",
       "75%    201662150.00     2011.00        230.00        3.00       40.81   \n",
       "max    400482086.00     2018.00        366.00   662700.00       70.33   \n",
       "\n",
       "        LONGITUDE  DISC_MONTH  \n",
       "count  2166753.00  2166753.00  \n",
       "mean       -96.19        5.94  \n",
       "std         16.65        2.95  \n",
       "min       -178.80        1.00  \n",
       "25%       -110.85        3.00  \n",
       "50%        -93.11        6.00  \n",
       "75%        -82.46        8.00  \n",
       "max        -65.26       12.00  "
      ]
     },
     "execution_count": 17,
     "metadata": {},
     "output_type": "execute_result"
    }
   ],
   "source": [
    "#Basic statistical descrptive analysis\n",
    "df.describe().apply(lambda s: s.apply('{0:.2f}'.format))"
   ]
  },
  {
   "cell_type": "code",
   "execution_count": 18,
   "id": "747e902f",
   "metadata": {},
   "outputs": [],
   "source": [
    "#Export dataframe as US_wildfires\n",
    "df.to_pickle(os.path.join(path, '2. Data', 'b. Prepared Data', 'US_wildfires.pkl'))"
   ]
  }
 ],
 "metadata": {
  "kernelspec": {
   "display_name": "Python 3 (ipykernel)",
   "language": "python",
   "name": "python3"
  },
  "language_info": {
   "codemirror_mode": {
    "name": "ipython",
    "version": 3
   },
   "file_extension": ".py",
   "mimetype": "text/x-python",
   "name": "python",
   "nbconvert_exporter": "python",
   "pygments_lexer": "ipython3",
   "version": "3.9.7"
  }
 },
 "nbformat": 4,
 "nbformat_minor": 5
}
